{
 "cells": [
  {
   "cell_type": "markdown",
   "metadata": {},
   "source": [
    "# Introducción a Python"
   ]
  },
  {
   "cell_type": "markdown",
   "metadata": {},
   "source": [
    "## Tipos Básicos "
   ]
  },
  {
   "cell_type": "code",
   "execution_count": 3,
   "metadata": {},
   "outputs": [
    {
     "data": {
      "text/plain": [
       "2.0"
      ]
     },
     "execution_count": 3,
     "metadata": {},
     "output_type": "execute_result"
    }
   ],
   "source": [
    "\"Hola\" #String\n",
    "True or False # BOOL\n",
    "2 #INT\n",
    "2.0 #Float"
   ]
  },
  {
   "cell_type": "code",
   "execution_count": 3,
   "metadata": {},
   "outputs": [
    {
     "data": {
      "text/plain": [
       "str"
      ]
     },
     "execution_count": 3,
     "metadata": {},
     "output_type": "execute_result"
    }
   ],
   "source": [
    "type(\"Hola\")"
   ]
  },
  {
   "cell_type": "markdown",
   "metadata": {},
   "source": [
    "## Estructura de Datos \n",
    "### Listas"
   ]
  },
  {
   "cell_type": "code",
   "execution_count": 6,
   "metadata": {},
   "outputs": [
    {
     "data": {
      "text/plain": [
       "'Matias'"
      ]
     },
     "execution_count": 6,
     "metadata": {},
     "output_type": "execute_result"
    }
   ],
   "source": [
    "numeros = [2, 3, 4]\n",
    "amigos = [\"Matias\", \"Sofia\", \"Martin\"]\n",
    "\n",
    "# Subselección, es con indices\n",
    "numeros[0] #2\n",
    "numeros[1] #3\n",
    "numeros[2] #4\n",
    "\n",
    "amigos[0] # Matias"
   ]
  },
  {
   "cell_type": "markdown",
   "metadata": {},
   "source": [
    "### Diccionarios"
   ]
  },
  {
   "cell_type": "code",
   "execution_count": 9,
   "metadata": {},
   "outputs": [
    {
     "data": {
      "text/plain": [
       "807645"
      ]
     },
     "execution_count": 9,
     "metadata": {},
     "output_type": "execute_result"
    }
   ],
   "source": [
    "# Es una estructura key value pair\n",
    "matias = {\n",
    "    \"nombre\":\"Matias\",\n",
    "    \"apellido\": \"Sanchez Gavier\",\n",
    "    \"dni\": [40078,807645]\n",
    "}\n",
    "\n",
    "# seleccionando items\n",
    "\n",
    "matias[\"nombre\"]\n",
    "matias[\"dni\"][1]"
   ]
  },
  {
   "cell_type": "markdown",
   "metadata": {},
   "source": [
    "###  Printing"
   ]
  },
  {
   "cell_type": "code",
   "execution_count": 12,
   "metadata": {},
   "outputs": [
    {
     "name": "stdout",
     "output_type": "stream",
     "text": [
      "Hola mundo\n",
      "Hola Mundo 21\n"
     ]
    },
    {
     "data": {
      "text/plain": [
       "'Me llamo Matias Sanchez Gavier y mi dni es [40078, 807645]'"
      ]
     },
     "execution_count": 12,
     "metadata": {},
     "output_type": "execute_result"
    }
   ],
   "source": [
    "# Printing\n",
    "print(\"Hola mundo\")\n",
    "\n",
    "# Fstrings\n",
    "x = 21\n",
    "print(f\"Hola Mundo {x}\")\n",
    "\n",
    "#Fstrings Avanzado\n",
    "f\"Me llamo {matias['nombre']} {matias['apellido']} y mi dni es {matias['dni']}\""
   ]
  },
  {
   "cell_type": "markdown",
   "metadata": {},
   "source": [
    "### Loops"
   ]
  },
  {
   "cell_type": "code",
   "execution_count": 13,
   "metadata": {},
   "outputs": [
    {
     "name": "stdout",
     "output_type": "stream",
     "text": [
      "Matias\n",
      "Sofia\n",
      "Martin\n"
     ]
    }
   ],
   "source": [
    "for i in amigos:\n",
    "    print(i)"
   ]
  },
  {
   "cell_type": "code",
   "execution_count": 28,
   "metadata": {},
   "outputs": [
    {
     "name": "stdout",
     "output_type": "stream",
     "text": [
      "Matias\n",
      "Sofia\n",
      "Martin\n"
     ]
    }
   ],
   "source": [
    "for amig in amigos:\n",
    "    print(amig)"
   ]
  },
  {
   "cell_type": "markdown",
   "metadata": {},
   "source": [
    "##  funciones asociadas a objetos"
   ]
  },
  {
   "cell_type": "code",
   "execution_count": 14,
   "metadata": {},
   "outputs": [],
   "source": [
    "amigos = ['Matias', 'Sofia', 'Martin']\n",
    "amigos.append(\"Jose\")\n",
    "#shift + tab"
   ]
  },
  {
   "cell_type": "markdown",
   "metadata": {},
   "source": [
    "\n",
    "## Ejercicios\n",
    "----"
   ]
  },
  {
   "cell_type": "markdown",
   "metadata": {},
   "source": [
    "1. Crea una lista con diccionarios, donde cada diccionarios tenga las keys : \"nombre\" \"Carrera\" y \"Promedio\", la lista llamala **alumnos**"
   ]
  },
  {
   "cell_type": "code",
   "execution_count": null,
   "metadata": {},
   "outputs": [],
   "source": []
  },
  {
   "cell_type": "markdown",
   "metadata": {},
   "source": [
    "2. Crea  una lista vacía con el nombre de **promedios**, luego hace un loop sobre la lista alumnos y en cada iteración agrega el promedio de cada diccionario a la lista de promedios. El resultado es la lista de promedios con todos los promedios de los alumnos."
   ]
  },
  {
   "cell_type": "code",
   "execution_count": null,
   "metadata": {},
   "outputs": [],
   "source": []
  },
  {
   "cell_type": "markdown",
   "metadata": {},
   "source": [
    "3. Usa el comando **sum()** con la lista como input, este calcula la suma de toda la lista, luego divide el resultado por el numero de promedios, lo podes calcular con el comando **len()** , guarda el resulatdo en una variable denominada **prom**."
   ]
  },
  {
   "cell_type": "code",
   "execution_count": null,
   "metadata": {},
   "outputs": [],
   "source": []
  }
 ],
 "metadata": {
  "kernelspec": {
   "display_name": "Python 3",
   "language": "python",
   "name": "python3"
  },
  "language_info": {
   "codemirror_mode": {
    "name": "ipython",
    "version": 3
   },
   "file_extension": ".py",
   "mimetype": "text/x-python",
   "name": "python",
   "nbconvert_exporter": "python",
   "pygments_lexer": "ipython3",
   "version": "3.8.5"
  }
 },
 "nbformat": 4,
 "nbformat_minor": 4
}
