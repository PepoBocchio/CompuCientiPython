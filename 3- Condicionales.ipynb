{
 "cells": [
  {
   "cell_type": "markdown",
   "metadata": {},
   "source": [
    "## Condicionales\n"
   ]
  },
  {
   "cell_type": "code",
   "execution_count": 2,
   "metadata": {},
   "outputs": [
    {
     "name": "stdout",
     "output_type": "stream",
     "text": [
      "Verdad\n"
     ]
    }
   ],
   "source": [
    "if (2>1):\n",
    "    print(\"Verdad\")"
   ]
  },
  {
   "cell_type": "code",
   "execution_count": 3,
   "metadata": {},
   "outputs": [
    {
     "name": "stdout",
     "output_type": "stream",
     "text": [
      "Verdad\n"
     ]
    }
   ],
   "source": [
    "x = 3\n",
    "\n",
    "if (x>2 & x<5):\n",
    "    print(\"Verdad\")"
   ]
  },
  {
   "cell_type": "markdown",
   "metadata": {},
   "source": [
    "https://www.w3schools.com/python/python_operators.asp "
   ]
  },
  {
   "cell_type": "markdown",
   "metadata": {},
   "source": [
    "##  Aplicación "
   ]
  },
  {
   "cell_type": "code",
   "execution_count": 8,
   "metadata": {},
   "outputs": [],
   "source": [
    "def salario(puesto):\n",
    "    puesto_ = puesto.lower()\n",
    "    if (puesto_ == \"junior\"):\n",
    "        return 25000\n",
    "    elif (puesto_ == \"semi-senior\"):\n",
    "        return 40000\n",
    "    elif (puesto_ == \"senior\"):\n",
    "        return 100000000\n",
    "    else:\n",
    "        print(\"error\")"
   ]
  },
  {
   "cell_type": "code",
   "execution_count": 9,
   "metadata": {},
   "outputs": [
    {
     "data": {
      "text/plain": [
       "25000"
      ]
     },
     "execution_count": 9,
     "metadata": {},
     "output_type": "execute_result"
    }
   ],
   "source": [
    "salario(\"Junior\")"
   ]
  },
  {
   "cell_type": "markdown",
   "metadata": {},
   "source": [
    "# Ejercicios "
   ]
  },
  {
   "cell_type": "markdown",
   "metadata": {},
   "source": [
    "1. \n",
    "Usa la siguiente lista como input <br/>\n",
    "\n",
    "materias = [0.2, 0.4, 0.6, 0.8, 1]<br/>\n",
    "\n",
    "Representa la fracción de aprobados por curso,  crea una función que tome esta lista y devuelva una lista donde se indique si es el curso es díficil o fácil, bajo el criterio que :\n",
    "\n",
    "<br/>\n",
    "-- fraccion_aprobados < 0,2 -> dificil  <br/>\n",
    "-- 0.7>fraccion_aprobados>=0,2 ->intermedio<br/>\n",
    "-- fraccion_aprobados>= 0,7 -> regalada<br/>\n",
    "\n",
    "<br/>\n",
    "\n"
   ]
  },
  {
   "cell_type": "code",
   "execution_count": null,
   "metadata": {},
   "outputs": [],
   "source": []
  }
 ],
 "metadata": {
  "kernelspec": {
   "display_name": "Python 3",
   "language": "python",
   "name": "python3"
  },
  "language_info": {
   "codemirror_mode": {
    "name": "ipython",
    "version": 3
   },
   "file_extension": ".py",
   "mimetype": "text/x-python",
   "name": "python",
   "nbconvert_exporter": "python",
   "pygments_lexer": "ipython3",
   "version": "3.8.5"
  }
 },
 "nbformat": 4,
 "nbformat_minor": 4
}
